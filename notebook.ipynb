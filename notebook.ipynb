{
 "cells": [
  {
   "cell_type": "markdown",
   "metadata": {},
   "source": [
    "\n",
    "# Project: No-show appointments \n",
    "\n",
    "## Table of Contents\n",
    "<ul>\n",
    "<li><a href=\"#intro\">Introduction</a></li>\n",
    "<li><a href=\"#load\">Load & Explore Data</a></li>\n",
    "   <ul>\n",
    "       <li><a href=\"#import\">1- Import Packages</a></li>\n",
    "       <li><a href=\"#load_data\">2- Load dataset</a></li>\n",
    "       <li><a href=\"#explore\">3- Explore dataset</a></li>\n",
    "   </ul>\n",
    "<li><a href=\"#wrangling\">Data Wrangling</a></li>\n",
    "<li><a href=\"#eda\">Exploratory Data Analysis</a></li>\n",
    "<li><a href=\"#conclusions\">Conclusions</a></li>\n",
    "    <ul>\n",
    "        <li><a href=\"#result\">1- Results</a></li>\n",
    "        <li><a href=\"#limit\">2- Limitations</a></li>\n",
    "    </ul>\n",
    "</ul>"
   ]
  },
  {
   "cell_type": "markdown",
   "metadata": {},
   "source": [
    "<a id='intro'></a>\n",
    "## Introduction\n",
    "\n",
    "in this project I will analze the No-show appointments dataset which contains information from 100k medical appointments in Brazil and is focused on the question of whether or not patients show up for their appointment.\n",
    "\n",
    "#### Here are some questions we can answer them later during the analysis process:-\n",
    "##### 1- what is the most 10 visited neighborhood with patients?\n",
    "##### 2- what is the distribution of ages ?\n",
    "##### 3- what is the distribution of no_show according gender?\n",
    "##### 4- do people with scholarship show up higher than people with no scholarship??\n",
    "##### 5- how sending sms to patient affect their showup?\n",
    "##### 6- What factors are important for us to know in order to predict if a patient will show up for their scheduled appointment?"
   ]
  },
  {
   "cell_type": "markdown",
   "metadata": {},
   "source": [
    "<a id='load'></a>\n",
    "## Load & Explore Data"
   ]
  },
  {
   "cell_type": "markdown",
   "metadata": {},
   "source": [
    "<a id='import'></a>\n",
    "### 1- Import Packages"
   ]
  },
  {
   "cell_type": "code",
   "execution_count": 49,
   "metadata": {},
   "outputs": [],
   "source": [
    "import pandas as pd\n",
    "import numpy as np\n",
    "import matplotlib.pyplot as plt\n",
    "import seaborn as sns\n",
    "%matplotlib inline"
   ]
  },
  {
   "cell_type": "markdown",
   "metadata": {},
   "source": [
    "<a id='load_data'></a>\n",
    "### 2- Load dataset"
   ]
  },
  {
   "cell_type": "code",
   "execution_count": 50,
   "metadata": {},
   "outputs": [
    {
     "data": {
      "text/html": [
       "<div>\n",
       "<style scoped>\n",
       "    .dataframe tbody tr th:only-of-type {\n",
       "        vertical-align: middle;\n",
       "    }\n",
       "\n",
       "    .dataframe tbody tr th {\n",
       "        vertical-align: top;\n",
       "    }\n",
       "\n",
       "    .dataframe thead th {\n",
       "        text-align: right;\n",
       "    }\n",
       "</style>\n",
       "<table border=\"1\" class=\"dataframe\">\n",
       "  <thead>\n",
       "    <tr style=\"text-align: right;\">\n",
       "      <th></th>\n",
       "      <th>PatientId</th>\n",
       "      <th>AppointmentID</th>\n",
       "      <th>Gender</th>\n",
       "      <th>ScheduledDay</th>\n",
       "      <th>AppointmentDay</th>\n",
       "      <th>Age</th>\n",
       "      <th>Neighbourhood</th>\n",
       "      <th>Scholarship</th>\n",
       "      <th>Hipertension</th>\n",
       "      <th>Diabetes</th>\n",
       "      <th>Alcoholism</th>\n",
       "      <th>Handcap</th>\n",
       "      <th>SMS_received</th>\n",
       "      <th>No-show</th>\n",
       "    </tr>\n",
       "  </thead>\n",
       "  <tbody>\n",
       "    <tr>\n",
       "      <th>0</th>\n",
       "      <td>2.987250e+13</td>\n",
       "      <td>5642903</td>\n",
       "      <td>F</td>\n",
       "      <td>2016-04-29T18:38:08Z</td>\n",
       "      <td>2016-04-29T00:00:00Z</td>\n",
       "      <td>62</td>\n",
       "      <td>JARDIM DA PENHA</td>\n",
       "      <td>0</td>\n",
       "      <td>1</td>\n",
       "      <td>0</td>\n",
       "      <td>0</td>\n",
       "      <td>0</td>\n",
       "      <td>0</td>\n",
       "      <td>No</td>\n",
       "    </tr>\n",
       "    <tr>\n",
       "      <th>1</th>\n",
       "      <td>5.589978e+14</td>\n",
       "      <td>5642503</td>\n",
       "      <td>M</td>\n",
       "      <td>2016-04-29T16:08:27Z</td>\n",
       "      <td>2016-04-29T00:00:00Z</td>\n",
       "      <td>56</td>\n",
       "      <td>JARDIM DA PENHA</td>\n",
       "      <td>0</td>\n",
       "      <td>0</td>\n",
       "      <td>0</td>\n",
       "      <td>0</td>\n",
       "      <td>0</td>\n",
       "      <td>0</td>\n",
       "      <td>No</td>\n",
       "    </tr>\n",
       "    <tr>\n",
       "      <th>2</th>\n",
       "      <td>4.262962e+12</td>\n",
       "      <td>5642549</td>\n",
       "      <td>F</td>\n",
       "      <td>2016-04-29T16:19:04Z</td>\n",
       "      <td>2016-04-29T00:00:00Z</td>\n",
       "      <td>62</td>\n",
       "      <td>MATA DA PRAIA</td>\n",
       "      <td>0</td>\n",
       "      <td>0</td>\n",
       "      <td>0</td>\n",
       "      <td>0</td>\n",
       "      <td>0</td>\n",
       "      <td>0</td>\n",
       "      <td>No</td>\n",
       "    </tr>\n",
       "    <tr>\n",
       "      <th>3</th>\n",
       "      <td>8.679512e+11</td>\n",
       "      <td>5642828</td>\n",
       "      <td>F</td>\n",
       "      <td>2016-04-29T17:29:31Z</td>\n",
       "      <td>2016-04-29T00:00:00Z</td>\n",
       "      <td>8</td>\n",
       "      <td>PONTAL DE CAMBURI</td>\n",
       "      <td>0</td>\n",
       "      <td>0</td>\n",
       "      <td>0</td>\n",
       "      <td>0</td>\n",
       "      <td>0</td>\n",
       "      <td>0</td>\n",
       "      <td>No</td>\n",
       "    </tr>\n",
       "    <tr>\n",
       "      <th>4</th>\n",
       "      <td>8.841186e+12</td>\n",
       "      <td>5642494</td>\n",
       "      <td>F</td>\n",
       "      <td>2016-04-29T16:07:23Z</td>\n",
       "      <td>2016-04-29T00:00:00Z</td>\n",
       "      <td>56</td>\n",
       "      <td>JARDIM DA PENHA</td>\n",
       "      <td>0</td>\n",
       "      <td>1</td>\n",
       "      <td>1</td>\n",
       "      <td>0</td>\n",
       "      <td>0</td>\n",
       "      <td>0</td>\n",
       "      <td>No</td>\n",
       "    </tr>\n",
       "  </tbody>\n",
       "</table>\n",
       "</div>"
      ],
      "text/plain": [
       "      PatientId  AppointmentID Gender          ScheduledDay  \\\n",
       "0  2.987250e+13        5642903      F  2016-04-29T18:38:08Z   \n",
       "1  5.589978e+14        5642503      M  2016-04-29T16:08:27Z   \n",
       "2  4.262962e+12        5642549      F  2016-04-29T16:19:04Z   \n",
       "3  8.679512e+11        5642828      F  2016-04-29T17:29:31Z   \n",
       "4  8.841186e+12        5642494      F  2016-04-29T16:07:23Z   \n",
       "\n",
       "         AppointmentDay  Age      Neighbourhood  Scholarship  Hipertension  \\\n",
       "0  2016-04-29T00:00:00Z   62    JARDIM DA PENHA            0             1   \n",
       "1  2016-04-29T00:00:00Z   56    JARDIM DA PENHA            0             0   \n",
       "2  2016-04-29T00:00:00Z   62      MATA DA PRAIA            0             0   \n",
       "3  2016-04-29T00:00:00Z    8  PONTAL DE CAMBURI            0             0   \n",
       "4  2016-04-29T00:00:00Z   56    JARDIM DA PENHA            0             1   \n",
       "\n",
       "   Diabetes  Alcoholism  Handcap  SMS_received No-show  \n",
       "0         0           0        0             0      No  \n",
       "1         0           0        0             0      No  \n",
       "2         0           0        0             0      No  \n",
       "3         0           0        0             0      No  \n",
       "4         1           0        0             0      No  "
      ]
     },
     "execution_count": 50,
     "metadata": {},
     "output_type": "execute_result"
    }
   ],
   "source": [
    "df= pd.read_csv('no_show_appointments.csv')\n",
    "df.head()"
   ]
  },
  {
   "cell_type": "markdown",
   "metadata": {},
   "source": [
    "<a id='explore'></a>\n",
    "### 3- Explore dataset"
   ]
  },
  {
   "cell_type": "code",
   "execution_count": 51,
   "metadata": {},
   "outputs": [
    {
     "name": "stdout",
     "output_type": "stream",
     "text": [
      "<class 'pandas.core.frame.DataFrame'>\n",
      "RangeIndex: 110527 entries, 0 to 110526\n",
      "Data columns (total 14 columns):\n",
      "PatientId         110527 non-null float64\n",
      "AppointmentID     110527 non-null int64\n",
      "Gender            110527 non-null object\n",
      "ScheduledDay      110527 non-null object\n",
      "AppointmentDay    110527 non-null object\n",
      "Age               110527 non-null int64\n",
      "Neighbourhood     110527 non-null object\n",
      "Scholarship       110527 non-null int64\n",
      "Hipertension      110527 non-null int64\n",
      "Diabetes          110527 non-null int64\n",
      "Alcoholism        110527 non-null int64\n",
      "Handcap           110527 non-null int64\n",
      "SMS_received      110527 non-null int64\n",
      "No-show           110527 non-null object\n",
      "dtypes: float64(1), int64(8), object(5)\n",
      "memory usage: 11.8+ MB\n"
     ]
    }
   ],
   "source": [
    "# display the dataframe information\n",
    "df.info()"
   ]
  },
  {
   "cell_type": "code",
   "execution_count": 52,
   "metadata": {},
   "outputs": [
    {
     "data": {
      "text/plain": [
       "(110527, 14)"
      ]
     },
     "execution_count": 52,
     "metadata": {},
     "output_type": "execute_result"
    }
   ],
   "source": [
    "# display the numberf of rows and columns of the dataset\n",
    "df.shape"
   ]
  },
  {
   "cell_type": "code",
   "execution_count": 53,
   "metadata": {},
   "outputs": [
    {
     "data": {
      "text/plain": [
       "PatientId          62299\n",
       "AppointmentID     110527\n",
       "Gender                 2\n",
       "ScheduledDay      103549\n",
       "AppointmentDay        27\n",
       "Age                  104\n",
       "Neighbourhood         81\n",
       "Scholarship            2\n",
       "Hipertension           2\n",
       "Diabetes               2\n",
       "Alcoholism             2\n",
       "Handcap                5\n",
       "SMS_received           2\n",
       "No-show                2\n",
       "dtype: int64"
      ]
     },
     "execution_count": 53,
     "metadata": {},
     "output_type": "execute_result"
    }
   ],
   "source": [
    "# display unique values of each column in the dataset\n",
    "df.nunique()"
   ]
  },
  {
   "cell_type": "code",
   "execution_count": 54,
   "metadata": {},
   "outputs": [
    {
     "data": {
      "text/html": [
       "<div>\n",
       "<style scoped>\n",
       "    .dataframe tbody tr th:only-of-type {\n",
       "        vertical-align: middle;\n",
       "    }\n",
       "\n",
       "    .dataframe tbody tr th {\n",
       "        vertical-align: top;\n",
       "    }\n",
       "\n",
       "    .dataframe thead th {\n",
       "        text-align: right;\n",
       "    }\n",
       "</style>\n",
       "<table border=\"1\" class=\"dataframe\">\n",
       "  <thead>\n",
       "    <tr style=\"text-align: right;\">\n",
       "      <th></th>\n",
       "      <th>PatientId</th>\n",
       "      <th>AppointmentID</th>\n",
       "      <th>Age</th>\n",
       "      <th>Scholarship</th>\n",
       "      <th>Hipertension</th>\n",
       "      <th>Diabetes</th>\n",
       "      <th>Alcoholism</th>\n",
       "      <th>Handcap</th>\n",
       "      <th>SMS_received</th>\n",
       "    </tr>\n",
       "  </thead>\n",
       "  <tbody>\n",
       "    <tr>\n",
       "      <th>count</th>\n",
       "      <td>1.105270e+05</td>\n",
       "      <td>1.105270e+05</td>\n",
       "      <td>110527.000000</td>\n",
       "      <td>110527.000000</td>\n",
       "      <td>110527.000000</td>\n",
       "      <td>110527.000000</td>\n",
       "      <td>110527.000000</td>\n",
       "      <td>110527.000000</td>\n",
       "      <td>110527.000000</td>\n",
       "    </tr>\n",
       "    <tr>\n",
       "      <th>mean</th>\n",
       "      <td>1.474963e+14</td>\n",
       "      <td>5.675305e+06</td>\n",
       "      <td>37.088874</td>\n",
       "      <td>0.098266</td>\n",
       "      <td>0.197246</td>\n",
       "      <td>0.071865</td>\n",
       "      <td>0.030400</td>\n",
       "      <td>0.022248</td>\n",
       "      <td>0.321026</td>\n",
       "    </tr>\n",
       "    <tr>\n",
       "      <th>std</th>\n",
       "      <td>2.560949e+14</td>\n",
       "      <td>7.129575e+04</td>\n",
       "      <td>23.110205</td>\n",
       "      <td>0.297675</td>\n",
       "      <td>0.397921</td>\n",
       "      <td>0.258265</td>\n",
       "      <td>0.171686</td>\n",
       "      <td>0.161543</td>\n",
       "      <td>0.466873</td>\n",
       "    </tr>\n",
       "    <tr>\n",
       "      <th>min</th>\n",
       "      <td>3.921784e+04</td>\n",
       "      <td>5.030230e+06</td>\n",
       "      <td>-1.000000</td>\n",
       "      <td>0.000000</td>\n",
       "      <td>0.000000</td>\n",
       "      <td>0.000000</td>\n",
       "      <td>0.000000</td>\n",
       "      <td>0.000000</td>\n",
       "      <td>0.000000</td>\n",
       "    </tr>\n",
       "    <tr>\n",
       "      <th>25%</th>\n",
       "      <td>4.172614e+12</td>\n",
       "      <td>5.640286e+06</td>\n",
       "      <td>18.000000</td>\n",
       "      <td>0.000000</td>\n",
       "      <td>0.000000</td>\n",
       "      <td>0.000000</td>\n",
       "      <td>0.000000</td>\n",
       "      <td>0.000000</td>\n",
       "      <td>0.000000</td>\n",
       "    </tr>\n",
       "    <tr>\n",
       "      <th>50%</th>\n",
       "      <td>3.173184e+13</td>\n",
       "      <td>5.680573e+06</td>\n",
       "      <td>37.000000</td>\n",
       "      <td>0.000000</td>\n",
       "      <td>0.000000</td>\n",
       "      <td>0.000000</td>\n",
       "      <td>0.000000</td>\n",
       "      <td>0.000000</td>\n",
       "      <td>0.000000</td>\n",
       "    </tr>\n",
       "    <tr>\n",
       "      <th>75%</th>\n",
       "      <td>9.439172e+13</td>\n",
       "      <td>5.725524e+06</td>\n",
       "      <td>55.000000</td>\n",
       "      <td>0.000000</td>\n",
       "      <td>0.000000</td>\n",
       "      <td>0.000000</td>\n",
       "      <td>0.000000</td>\n",
       "      <td>0.000000</td>\n",
       "      <td>1.000000</td>\n",
       "    </tr>\n",
       "    <tr>\n",
       "      <th>max</th>\n",
       "      <td>9.999816e+14</td>\n",
       "      <td>5.790484e+06</td>\n",
       "      <td>115.000000</td>\n",
       "      <td>1.000000</td>\n",
       "      <td>1.000000</td>\n",
       "      <td>1.000000</td>\n",
       "      <td>1.000000</td>\n",
       "      <td>4.000000</td>\n",
       "      <td>1.000000</td>\n",
       "    </tr>\n",
       "  </tbody>\n",
       "</table>\n",
       "</div>"
      ],
      "text/plain": [
       "          PatientId  AppointmentID            Age    Scholarship  \\\n",
       "count  1.105270e+05   1.105270e+05  110527.000000  110527.000000   \n",
       "mean   1.474963e+14   5.675305e+06      37.088874       0.098266   \n",
       "std    2.560949e+14   7.129575e+04      23.110205       0.297675   \n",
       "min    3.921784e+04   5.030230e+06      -1.000000       0.000000   \n",
       "25%    4.172614e+12   5.640286e+06      18.000000       0.000000   \n",
       "50%    3.173184e+13   5.680573e+06      37.000000       0.000000   \n",
       "75%    9.439172e+13   5.725524e+06      55.000000       0.000000   \n",
       "max    9.999816e+14   5.790484e+06     115.000000       1.000000   \n",
       "\n",
       "        Hipertension       Diabetes     Alcoholism        Handcap  \\\n",
       "count  110527.000000  110527.000000  110527.000000  110527.000000   \n",
       "mean        0.197246       0.071865       0.030400       0.022248   \n",
       "std         0.397921       0.258265       0.171686       0.161543   \n",
       "min         0.000000       0.000000       0.000000       0.000000   \n",
       "25%         0.000000       0.000000       0.000000       0.000000   \n",
       "50%         0.000000       0.000000       0.000000       0.000000   \n",
       "75%         0.000000       0.000000       0.000000       0.000000   \n",
       "max         1.000000       1.000000       1.000000       4.000000   \n",
       "\n",
       "        SMS_received  \n",
       "count  110527.000000  \n",
       "mean        0.321026  \n",
       "std         0.466873  \n",
       "min         0.000000  \n",
       "25%         0.000000  \n",
       "50%         0.000000  \n",
       "75%         1.000000  \n",
       "max         1.000000  "
      ]
     },
     "execution_count": 54,
     "metadata": {},
     "output_type": "execute_result"
    }
   ],
   "source": [
    "# display summry statistics about the numeric columns\n",
    "df.describe()"
   ]
  },
  {
   "cell_type": "raw",
   "metadata": {},
   "source": [
    "we noticed here the min value of age is -1 (with no meaning) !! we will check it later"
   ]
  },
  {
   "cell_type": "code",
   "execution_count": 55,
   "metadata": {},
   "outputs": [
    {
     "data": {
      "text/html": [
       "<style  type=\"text/css\" >\n",
       "    #T_ed0aa000_bfb6_11ea_a830_d4bed915db18row0_col0 {\n",
       "            background-color:  #b40426;\n",
       "            color:  #f1f1f1;\n",
       "        }    #T_ed0aa000_bfb6_11ea_a830_d4bed915db18row0_col1 {\n",
       "            background-color:  #7ea1fa;\n",
       "            color:  #000000;\n",
       "        }    #T_ed0aa000_bfb6_11ea_a830_d4bed915db18row0_col2 {\n",
       "            background-color:  #536edd;\n",
       "            color:  #000000;\n",
       "        }    #T_ed0aa000_bfb6_11ea_a830_d4bed915db18row0_col3 {\n",
       "            background-color:  #536edd;\n",
       "            color:  #000000;\n",
       "        }    #T_ed0aa000_bfb6_11ea_a830_d4bed915db18row0_col4 {\n",
       "            background-color:  #3e51c5;\n",
       "            color:  #f1f1f1;\n",
       "        }    #T_ed0aa000_bfb6_11ea_a830_d4bed915db18row0_col5 {\n",
       "            background-color:  #4257c9;\n",
       "            color:  #f1f1f1;\n",
       "        }    #T_ed0aa000_bfb6_11ea_a830_d4bed915db18row0_col6 {\n",
       "            background-color:  #455cce;\n",
       "            color:  #f1f1f1;\n",
       "        }    #T_ed0aa000_bfb6_11ea_a830_d4bed915db18row0_col7 {\n",
       "            background-color:  #3f53c6;\n",
       "            color:  #f1f1f1;\n",
       "        }    #T_ed0aa000_bfb6_11ea_a830_d4bed915db18row0_col8 {\n",
       "            background-color:  #7a9df8;\n",
       "            color:  #000000;\n",
       "        }    #T_ed0aa000_bfb6_11ea_a830_d4bed915db18row1_col0 {\n",
       "            background-color:  #3e51c5;\n",
       "            color:  #f1f1f1;\n",
       "        }    #T_ed0aa000_bfb6_11ea_a830_d4bed915db18row1_col1 {\n",
       "            background-color:  #b40426;\n",
       "            color:  #f1f1f1;\n",
       "        }    #T_ed0aa000_bfb6_11ea_a830_d4bed915db18row1_col2 {\n",
       "            background-color:  #4f69d9;\n",
       "            color:  #000000;\n",
       "        }    #T_ed0aa000_bfb6_11ea_a830_d4bed915db18row1_col3 {\n",
       "            background-color:  #5a78e4;\n",
       "            color:  #000000;\n",
       "        }    #T_ed0aa000_bfb6_11ea_a830_d4bed915db18row1_col4 {\n",
       "            background-color:  #445acc;\n",
       "            color:  #f1f1f1;\n",
       "        }    #T_ed0aa000_bfb6_11ea_a830_d4bed915db18row1_col5 {\n",
       "            background-color:  #485fd1;\n",
       "            color:  #f1f1f1;\n",
       "        }    #T_ed0aa000_bfb6_11ea_a830_d4bed915db18row1_col6 {\n",
       "            background-color:  #4b64d5;\n",
       "            color:  #f1f1f1;\n",
       "        }    #T_ed0aa000_bfb6_11ea_a830_d4bed915db18row1_col7 {\n",
       "            background-color:  #455cce;\n",
       "            color:  #f1f1f1;\n",
       "        }    #T_ed0aa000_bfb6_11ea_a830_d4bed915db18row1_col8 {\n",
       "            background-color:  #3b4cc0;\n",
       "            color:  #f1f1f1;\n",
       "        }    #T_ed0aa000_bfb6_11ea_a830_d4bed915db18row2_col0 {\n",
       "            background-color:  #3c4ec2;\n",
       "            color:  #f1f1f1;\n",
       "        }    #T_ed0aa000_bfb6_11ea_a830_d4bed915db18row2_col1 {\n",
       "            background-color:  #779af7;\n",
       "            color:  #000000;\n",
       "        }    #T_ed0aa000_bfb6_11ea_a830_d4bed915db18row2_col2 {\n",
       "            background-color:  #b40426;\n",
       "            color:  #f1f1f1;\n",
       "        }    #T_ed0aa000_bfb6_11ea_a830_d4bed915db18row2_col3 {\n",
       "            background-color:  #3b4cc0;\n",
       "            color:  #f1f1f1;\n",
       "        }    #T_ed0aa000_bfb6_11ea_a830_d4bed915db18row2_col4 {\n",
       "            background-color:  #e0dbd8;\n",
       "            color:  #000000;\n",
       "        }    #T_ed0aa000_bfb6_11ea_a830_d4bed915db18row2_col5 {\n",
       "            background-color:  #a2c1ff;\n",
       "            color:  #000000;\n",
       "        }    #T_ed0aa000_bfb6_11ea_a830_d4bed915db18row2_col6 {\n",
       "            background-color:  #5f7fe8;\n",
       "            color:  #000000;\n",
       "        }    #T_ed0aa000_bfb6_11ea_a830_d4bed915db18row2_col7 {\n",
       "            background-color:  #5977e3;\n",
       "            color:  #000000;\n",
       "        }    #T_ed0aa000_bfb6_11ea_a830_d4bed915db18row2_col8 {\n",
       "            background-color:  #80a3fa;\n",
       "            color:  #000000;\n",
       "        }    #T_ed0aa000_bfb6_11ea_a830_d4bed915db18row3_col0 {\n",
       "            background-color:  #3c4ec2;\n",
       "            color:  #f1f1f1;\n",
       "        }    #T_ed0aa000_bfb6_11ea_a830_d4bed915db18row3_col1 {\n",
       "            background-color:  #82a6fb;\n",
       "            color:  #000000;\n",
       "        }    #T_ed0aa000_bfb6_11ea_a830_d4bed915db18row3_col2 {\n",
       "            background-color:  #3b4cc0;\n",
       "            color:  #f1f1f1;\n",
       "        }    #T_ed0aa000_bfb6_11ea_a830_d4bed915db18row3_col3 {\n",
       "            background-color:  #b40426;\n",
       "            color:  #f1f1f1;\n",
       "        }    #T_ed0aa000_bfb6_11ea_a830_d4bed915db18row3_col4 {\n",
       "            background-color:  #3b4cc0;\n",
       "            color:  #f1f1f1;\n",
       "        }    #T_ed0aa000_bfb6_11ea_a830_d4bed915db18row3_col5 {\n",
       "            background-color:  #3b4cc0;\n",
       "            color:  #f1f1f1;\n",
       "        }    #T_ed0aa000_bfb6_11ea_a830_d4bed915db18row3_col6 {\n",
       "            background-color:  #4c66d6;\n",
       "            color:  #000000;\n",
       "        }    #T_ed0aa000_bfb6_11ea_a830_d4bed915db18row3_col7 {\n",
       "            background-color:  #3e51c5;\n",
       "            color:  #f1f1f1;\n",
       "        }    #T_ed0aa000_bfb6_11ea_a830_d4bed915db18row3_col8 {\n",
       "            background-color:  #7da0f9;\n",
       "            color:  #000000;\n",
       "        }    #T_ed0aa000_bfb6_11ea_a830_d4bed915db18row4_col0 {\n",
       "            background-color:  #3b4cc0;\n",
       "            color:  #f1f1f1;\n",
       "        }    #T_ed0aa000_bfb6_11ea_a830_d4bed915db18row4_col1 {\n",
       "            background-color:  #80a3fa;\n",
       "            color:  #000000;\n",
       "        }    #T_ed0aa000_bfb6_11ea_a830_d4bed915db18row4_col2 {\n",
       "            background-color:  #e8d6cc;\n",
       "            color:  #000000;\n",
       "        }    #T_ed0aa000_bfb6_11ea_a830_d4bed915db18row4_col3 {\n",
       "            background-color:  #4f69d9;\n",
       "            color:  #000000;\n",
       "        }    #T_ed0aa000_bfb6_11ea_a830_d4bed915db18row4_col4 {\n",
       "            background-color:  #b40426;\n",
       "            color:  #f1f1f1;\n",
       "        }    #T_ed0aa000_bfb6_11ea_a830_d4bed915db18row4_col5 {\n",
       "            background-color:  #cedaeb;\n",
       "            color:  #000000;\n",
       "        }    #T_ed0aa000_bfb6_11ea_a830_d4bed915db18row4_col6 {\n",
       "            background-color:  #5d7ce6;\n",
       "            color:  #000000;\n",
       "        }    #T_ed0aa000_bfb6_11ea_a830_d4bed915db18row4_col7 {\n",
       "            background-color:  #5a78e4;\n",
       "            color:  #000000;\n",
       "        }    #T_ed0aa000_bfb6_11ea_a830_d4bed915db18row4_col8 {\n",
       "            background-color:  #7b9ff9;\n",
       "            color:  #000000;\n",
       "        }    #T_ed0aa000_bfb6_11ea_a830_d4bed915db18row5_col0 {\n",
       "            background-color:  #3d50c3;\n",
       "            color:  #f1f1f1;\n",
       "        }    #T_ed0aa000_bfb6_11ea_a830_d4bed915db18row5_col1 {\n",
       "            background-color:  #82a6fb;\n",
       "            color:  #000000;\n",
       "        }    #T_ed0aa000_bfb6_11ea_a830_d4bed915db18row5_col2 {\n",
       "            background-color:  #b1cbfc;\n",
       "            color:  #000000;\n",
       "        }    #T_ed0aa000_bfb6_11ea_a830_d4bed915db18row5_col3 {\n",
       "            background-color:  #4c66d6;\n",
       "            color:  #000000;\n",
       "        }    #T_ed0aa000_bfb6_11ea_a830_d4bed915db18row5_col4 {\n",
       "            background-color:  #cdd9ec;\n",
       "            color:  #000000;\n",
       "        }    #T_ed0aa000_bfb6_11ea_a830_d4bed915db18row5_col5 {\n",
       "            background-color:  #b40426;\n",
       "            color:  #f1f1f1;\n",
       "        }    #T_ed0aa000_bfb6_11ea_a830_d4bed915db18row5_col6 {\n",
       "            background-color:  #485fd1;\n",
       "            color:  #f1f1f1;\n",
       "        }    #T_ed0aa000_bfb6_11ea_a830_d4bed915db18row5_col7 {\n",
       "            background-color:  #536edd;\n",
       "            color:  #000000;\n",
       "        }    #T_ed0aa000_bfb6_11ea_a830_d4bed915db18row5_col8 {\n",
       "            background-color:  #799cf8;\n",
       "            color:  #000000;\n",
       "        }    #T_ed0aa000_bfb6_11ea_a830_d4bed915db18row6_col0 {\n",
       "            background-color:  #4055c8;\n",
       "            color:  #f1f1f1;\n",
       "        }    #T_ed0aa000_bfb6_11ea_a830_d4bed915db18row6_col1 {\n",
       "            background-color:  #85a8fc;\n",
       "            color:  #000000;\n",
       "        }    #T_ed0aa000_bfb6_11ea_a830_d4bed915db18row6_col2 {\n",
       "            background-color:  #7295f4;\n",
       "            color:  #000000;\n",
       "        }    #T_ed0aa000_bfb6_11ea_a830_d4bed915db18row6_col3 {\n",
       "            background-color:  #5e7de7;\n",
       "            color:  #000000;\n",
       "        }    #T_ed0aa000_bfb6_11ea_a830_d4bed915db18row6_col4 {\n",
       "            background-color:  #5b7ae5;\n",
       "            color:  #000000;\n",
       "        }    #T_ed0aa000_bfb6_11ea_a830_d4bed915db18row6_col5 {\n",
       "            background-color:  #465ecf;\n",
       "            color:  #f1f1f1;\n",
       "        }    #T_ed0aa000_bfb6_11ea_a830_d4bed915db18row6_col6 {\n",
       "            background-color:  #b40426;\n",
       "            color:  #f1f1f1;\n",
       "        }    #T_ed0aa000_bfb6_11ea_a830_d4bed915db18row6_col7 {\n",
       "            background-color:  #4358cb;\n",
       "            color:  #f1f1f1;\n",
       "        }    #T_ed0aa000_bfb6_11ea_a830_d4bed915db18row6_col8 {\n",
       "            background-color:  #7597f6;\n",
       "            color:  #000000;\n",
       "        }    #T_ed0aa000_bfb6_11ea_a830_d4bed915db18row7_col0 {\n",
       "            background-color:  #3b4cc0;\n",
       "            color:  #f1f1f1;\n",
       "        }    #T_ed0aa000_bfb6_11ea_a830_d4bed915db18row7_col1 {\n",
       "            background-color:  #81a4fb;\n",
       "            color:  #000000;\n",
       "        }    #T_ed0aa000_bfb6_11ea_a830_d4bed915db18row7_col2 {\n",
       "            background-color:  #6b8df0;\n",
       "            color:  #000000;\n",
       "        }    #T_ed0aa000_bfb6_11ea_a830_d4bed915db18row7_col3 {\n",
       "            background-color:  #516ddb;\n",
       "            color:  #000000;\n",
       "        }    #T_ed0aa000_bfb6_11ea_a830_d4bed915db18row7_col4 {\n",
       "            background-color:  #5977e3;\n",
       "            color:  #000000;\n",
       "        }    #T_ed0aa000_bfb6_11ea_a830_d4bed915db18row7_col5 {\n",
       "            background-color:  #536edd;\n",
       "            color:  #000000;\n",
       "        }    #T_ed0aa000_bfb6_11ea_a830_d4bed915db18row7_col6 {\n",
       "            background-color:  #4358cb;\n",
       "            color:  #f1f1f1;\n",
       "        }    #T_ed0aa000_bfb6_11ea_a830_d4bed915db18row7_col7 {\n",
       "            background-color:  #b40426;\n",
       "            color:  #f1f1f1;\n",
       "        }    #T_ed0aa000_bfb6_11ea_a830_d4bed915db18row7_col8 {\n",
       "            background-color:  #7699f6;\n",
       "            color:  #000000;\n",
       "        }    #T_ed0aa000_bfb6_11ea_a830_d4bed915db18row8_col0 {\n",
       "            background-color:  #3b4cc0;\n",
       "            color:  #f1f1f1;\n",
       "        }    #T_ed0aa000_bfb6_11ea_a830_d4bed915db18row8_col1 {\n",
       "            background-color:  #3b4cc0;\n",
       "            color:  #f1f1f1;\n",
       "        }    #T_ed0aa000_bfb6_11ea_a830_d4bed915db18row8_col2 {\n",
       "            background-color:  #5875e1;\n",
       "            color:  #000000;\n",
       "        }    #T_ed0aa000_bfb6_11ea_a830_d4bed915db18row8_col3 {\n",
       "            background-color:  #5470de;\n",
       "            color:  #000000;\n",
       "        }    #T_ed0aa000_bfb6_11ea_a830_d4bed915db18row8_col4 {\n",
       "            background-color:  #3e51c5;\n",
       "            color:  #f1f1f1;\n",
       "        }    #T_ed0aa000_bfb6_11ea_a830_d4bed915db18row8_col5 {\n",
       "            background-color:  #3d50c3;\n",
       "            color:  #f1f1f1;\n",
       "        }    #T_ed0aa000_bfb6_11ea_a830_d4bed915db18row8_col6 {\n",
       "            background-color:  #3b4cc0;\n",
       "            color:  #f1f1f1;\n",
       "        }    #T_ed0aa000_bfb6_11ea_a830_d4bed915db18row8_col7 {\n",
       "            background-color:  #3b4cc0;\n",
       "            color:  #f1f1f1;\n",
       "        }    #T_ed0aa000_bfb6_11ea_a830_d4bed915db18row8_col8 {\n",
       "            background-color:  #b40426;\n",
       "            color:  #f1f1f1;\n",
       "        }</style><table id=\"T_ed0aa000_bfb6_11ea_a830_d4bed915db18\" ><thead>    <tr>        <th class=\"blank level0\" ></th>        <th class=\"col_heading level0 col0\" >PatientId</th>        <th class=\"col_heading level0 col1\" >AppointmentID</th>        <th class=\"col_heading level0 col2\" >Age</th>        <th class=\"col_heading level0 col3\" >Scholarship</th>        <th class=\"col_heading level0 col4\" >Hipertension</th>        <th class=\"col_heading level0 col5\" >Diabetes</th>        <th class=\"col_heading level0 col6\" >Alcoholism</th>        <th class=\"col_heading level0 col7\" >Handcap</th>        <th class=\"col_heading level0 col8\" >SMS_received</th>    </tr></thead><tbody>\n",
       "                <tr>\n",
       "                        <th id=\"T_ed0aa000_bfb6_11ea_a830_d4bed915db18level0_row0\" class=\"row_heading level0 row0\" >PatientId</th>\n",
       "                        <td id=\"T_ed0aa000_bfb6_11ea_a830_d4bed915db18row0_col0\" class=\"data row0 col0\" >1</td>\n",
       "                        <td id=\"T_ed0aa000_bfb6_11ea_a830_d4bed915db18row0_col1\" class=\"data row0 col1\" >0.00403857</td>\n",
       "                        <td id=\"T_ed0aa000_bfb6_11ea_a830_d4bed915db18row0_col2\" class=\"data row0 col2\" >-0.0041394</td>\n",
       "                        <td id=\"T_ed0aa000_bfb6_11ea_a830_d4bed915db18row0_col3\" class=\"data row0 col3\" >-0.00288023</td>\n",
       "                        <td id=\"T_ed0aa000_bfb6_11ea_a830_d4bed915db18row0_col4\" class=\"data row0 col4\" >-0.00644107</td>\n",
       "                        <td id=\"T_ed0aa000_bfb6_11ea_a830_d4bed915db18row0_col5\" class=\"data row0 col5\" >0.00160532</td>\n",
       "                        <td id=\"T_ed0aa000_bfb6_11ea_a830_d4bed915db18row0_col6\" class=\"data row0 col6\" >0.0110115</td>\n",
       "                        <td id=\"T_ed0aa000_bfb6_11ea_a830_d4bed915db18row0_col7\" class=\"data row0 col7\" >-0.00791605</td>\n",
       "                        <td id=\"T_ed0aa000_bfb6_11ea_a830_d4bed915db18row0_col8\" class=\"data row0 col8\" >-0.00974946</td>\n",
       "            </tr>\n",
       "            <tr>\n",
       "                        <th id=\"T_ed0aa000_bfb6_11ea_a830_d4bed915db18level0_row1\" class=\"row_heading level0 row1\" >AppointmentID</th>\n",
       "                        <td id=\"T_ed0aa000_bfb6_11ea_a830_d4bed915db18row1_col0\" class=\"data row1 col0\" >0.00403857</td>\n",
       "                        <td id=\"T_ed0aa000_bfb6_11ea_a830_d4bed915db18row1_col1\" class=\"data row1 col1\" >1</td>\n",
       "                        <td id=\"T_ed0aa000_bfb6_11ea_a830_d4bed915db18row1_col2\" class=\"data row1 col2\" >-0.0191265</td>\n",
       "                        <td id=\"T_ed0aa000_bfb6_11ea_a830_d4bed915db18row1_col3\" class=\"data row1 col3\" >0.0226149</td>\n",
       "                        <td id=\"T_ed0aa000_bfb6_11ea_a830_d4bed915db18row1_col4\" class=\"data row1 col4\" >0.0127522</td>\n",
       "                        <td id=\"T_ed0aa000_bfb6_11ea_a830_d4bed915db18row1_col5\" class=\"data row1 col5\" >0.0226283</td>\n",
       "                        <td id=\"T_ed0aa000_bfb6_11ea_a830_d4bed915db18row1_col6\" class=\"data row1 col6\" >0.0329439</td>\n",
       "                        <td id=\"T_ed0aa000_bfb6_11ea_a830_d4bed915db18row1_col7\" class=\"data row1 col7\" >0.0141056</td>\n",
       "                        <td id=\"T_ed0aa000_bfb6_11ea_a830_d4bed915db18row1_col8\" class=\"data row1 col8\" >-0.256618</td>\n",
       "            </tr>\n",
       "            <tr>\n",
       "                        <th id=\"T_ed0aa000_bfb6_11ea_a830_d4bed915db18level0_row2\" class=\"row_heading level0 row2\" >Age</th>\n",
       "                        <td id=\"T_ed0aa000_bfb6_11ea_a830_d4bed915db18row2_col0\" class=\"data row2 col0\" >-0.0041394</td>\n",
       "                        <td id=\"T_ed0aa000_bfb6_11ea_a830_d4bed915db18row2_col1\" class=\"data row2 col1\" >-0.0191265</td>\n",
       "                        <td id=\"T_ed0aa000_bfb6_11ea_a830_d4bed915db18row2_col2\" class=\"data row2 col2\" >1</td>\n",
       "                        <td id=\"T_ed0aa000_bfb6_11ea_a830_d4bed915db18row2_col3\" class=\"data row2 col3\" >-0.0924572</td>\n",
       "                        <td id=\"T_ed0aa000_bfb6_11ea_a830_d4bed915db18row2_col4\" class=\"data row2 col4\" >0.504586</td>\n",
       "                        <td id=\"T_ed0aa000_bfb6_11ea_a830_d4bed915db18row2_col5\" class=\"data row2 col5\" >0.292391</td>\n",
       "                        <td id=\"T_ed0aa000_bfb6_11ea_a830_d4bed915db18row2_col6\" class=\"data row2 col6\" >0.0958113</td>\n",
       "                        <td id=\"T_ed0aa000_bfb6_11ea_a830_d4bed915db18row2_col7\" class=\"data row2 col7\" >0.0780332</td>\n",
       "                        <td id=\"T_ed0aa000_bfb6_11ea_a830_d4bed915db18row2_col8\" class=\"data row2 col8\" >0.0126434</td>\n",
       "            </tr>\n",
       "            <tr>\n",
       "                        <th id=\"T_ed0aa000_bfb6_11ea_a830_d4bed915db18level0_row3\" class=\"row_heading level0 row3\" >Scholarship</th>\n",
       "                        <td id=\"T_ed0aa000_bfb6_11ea_a830_d4bed915db18row3_col0\" class=\"data row3 col0\" >-0.00288023</td>\n",
       "                        <td id=\"T_ed0aa000_bfb6_11ea_a830_d4bed915db18row3_col1\" class=\"data row3 col1\" >0.0226149</td>\n",
       "                        <td id=\"T_ed0aa000_bfb6_11ea_a830_d4bed915db18row3_col2\" class=\"data row3 col2\" >-0.0924572</td>\n",
       "                        <td id=\"T_ed0aa000_bfb6_11ea_a830_d4bed915db18row3_col3\" class=\"data row3 col3\" >1</td>\n",
       "                        <td id=\"T_ed0aa000_bfb6_11ea_a830_d4bed915db18row3_col4\" class=\"data row3 col4\" >-0.0197288</td>\n",
       "                        <td id=\"T_ed0aa000_bfb6_11ea_a830_d4bed915db18row3_col5\" class=\"data row3 col5\" >-0.0248935</td>\n",
       "                        <td id=\"T_ed0aa000_bfb6_11ea_a830_d4bed915db18row3_col6\" class=\"data row3 col6\" >0.0350225</td>\n",
       "                        <td id=\"T_ed0aa000_bfb6_11ea_a830_d4bed915db18row3_col7\" class=\"data row3 col7\" >-0.00858628</td>\n",
       "                        <td id=\"T_ed0aa000_bfb6_11ea_a830_d4bed915db18row3_col8\" class=\"data row3 col8\" >0.00119401</td>\n",
       "            </tr>\n",
       "            <tr>\n",
       "                        <th id=\"T_ed0aa000_bfb6_11ea_a830_d4bed915db18level0_row4\" class=\"row_heading level0 row4\" >Hipertension</th>\n",
       "                        <td id=\"T_ed0aa000_bfb6_11ea_a830_d4bed915db18row4_col0\" class=\"data row4 col0\" >-0.00644107</td>\n",
       "                        <td id=\"T_ed0aa000_bfb6_11ea_a830_d4bed915db18row4_col1\" class=\"data row4 col1\" >0.0127522</td>\n",
       "                        <td id=\"T_ed0aa000_bfb6_11ea_a830_d4bed915db18row4_col2\" class=\"data row4 col2\" >0.504586</td>\n",
       "                        <td id=\"T_ed0aa000_bfb6_11ea_a830_d4bed915db18row4_col3\" class=\"data row4 col3\" >-0.0197288</td>\n",
       "                        <td id=\"T_ed0aa000_bfb6_11ea_a830_d4bed915db18row4_col4\" class=\"data row4 col4\" >1</td>\n",
       "                        <td id=\"T_ed0aa000_bfb6_11ea_a830_d4bed915db18row4_col5\" class=\"data row4 col5\" >0.433086</td>\n",
       "                        <td id=\"T_ed0aa000_bfb6_11ea_a830_d4bed915db18row4_col6\" class=\"data row4 col6\" >0.0879708</td>\n",
       "                        <td id=\"T_ed0aa000_bfb6_11ea_a830_d4bed915db18row4_col7\" class=\"data row4 col7\" >0.0800833</td>\n",
       "                        <td id=\"T_ed0aa000_bfb6_11ea_a830_d4bed915db18row4_col8\" class=\"data row4 col8\" >-0.00626686</td>\n",
       "            </tr>\n",
       "            <tr>\n",
       "                        <th id=\"T_ed0aa000_bfb6_11ea_a830_d4bed915db18level0_row5\" class=\"row_heading level0 row5\" >Diabetes</th>\n",
       "                        <td id=\"T_ed0aa000_bfb6_11ea_a830_d4bed915db18row5_col0\" class=\"data row5 col0\" >0.00160532</td>\n",
       "                        <td id=\"T_ed0aa000_bfb6_11ea_a830_d4bed915db18row5_col1\" class=\"data row5 col1\" >0.0226283</td>\n",
       "                        <td id=\"T_ed0aa000_bfb6_11ea_a830_d4bed915db18row5_col2\" class=\"data row5 col2\" >0.292391</td>\n",
       "                        <td id=\"T_ed0aa000_bfb6_11ea_a830_d4bed915db18row5_col3\" class=\"data row5 col3\" >-0.0248935</td>\n",
       "                        <td id=\"T_ed0aa000_bfb6_11ea_a830_d4bed915db18row5_col4\" class=\"data row5 col4\" >0.433086</td>\n",
       "                        <td id=\"T_ed0aa000_bfb6_11ea_a830_d4bed915db18row5_col5\" class=\"data row5 col5\" >1</td>\n",
       "                        <td id=\"T_ed0aa000_bfb6_11ea_a830_d4bed915db18row5_col6\" class=\"data row5 col6\" >0.0184735</td>\n",
       "                        <td id=\"T_ed0aa000_bfb6_11ea_a830_d4bed915db18row5_col7\" class=\"data row5 col7\" >0.05753</td>\n",
       "                        <td id=\"T_ed0aa000_bfb6_11ea_a830_d4bed915db18row5_col8\" class=\"data row5 col8\" >-0.01455</td>\n",
       "            </tr>\n",
       "            <tr>\n",
       "                        <th id=\"T_ed0aa000_bfb6_11ea_a830_d4bed915db18level0_row6\" class=\"row_heading level0 row6\" >Alcoholism</th>\n",
       "                        <td id=\"T_ed0aa000_bfb6_11ea_a830_d4bed915db18row6_col0\" class=\"data row6 col0\" >0.0110115</td>\n",
       "                        <td id=\"T_ed0aa000_bfb6_11ea_a830_d4bed915db18row6_col1\" class=\"data row6 col1\" >0.0329439</td>\n",
       "                        <td id=\"T_ed0aa000_bfb6_11ea_a830_d4bed915db18row6_col2\" class=\"data row6 col2\" >0.0958113</td>\n",
       "                        <td id=\"T_ed0aa000_bfb6_11ea_a830_d4bed915db18row6_col3\" class=\"data row6 col3\" >0.0350225</td>\n",
       "                        <td id=\"T_ed0aa000_bfb6_11ea_a830_d4bed915db18row6_col4\" class=\"data row6 col4\" >0.0879708</td>\n",
       "                        <td id=\"T_ed0aa000_bfb6_11ea_a830_d4bed915db18row6_col5\" class=\"data row6 col5\" >0.0184735</td>\n",
       "                        <td id=\"T_ed0aa000_bfb6_11ea_a830_d4bed915db18row6_col6\" class=\"data row6 col6\" >1</td>\n",
       "                        <td id=\"T_ed0aa000_bfb6_11ea_a830_d4bed915db18row6_col7\" class=\"data row6 col7\" >0.00464765</td>\n",
       "                        <td id=\"T_ed0aa000_bfb6_11ea_a830_d4bed915db18row6_col8\" class=\"data row6 col8\" >-0.0261474</td>\n",
       "            </tr>\n",
       "            <tr>\n",
       "                        <th id=\"T_ed0aa000_bfb6_11ea_a830_d4bed915db18level0_row7\" class=\"row_heading level0 row7\" >Handcap</th>\n",
       "                        <td id=\"T_ed0aa000_bfb6_11ea_a830_d4bed915db18row7_col0\" class=\"data row7 col0\" >-0.00791605</td>\n",
       "                        <td id=\"T_ed0aa000_bfb6_11ea_a830_d4bed915db18row7_col1\" class=\"data row7 col1\" >0.0141056</td>\n",
       "                        <td id=\"T_ed0aa000_bfb6_11ea_a830_d4bed915db18row7_col2\" class=\"data row7 col2\" >0.0780332</td>\n",
       "                        <td id=\"T_ed0aa000_bfb6_11ea_a830_d4bed915db18row7_col3\" class=\"data row7 col3\" >-0.00858628</td>\n",
       "                        <td id=\"T_ed0aa000_bfb6_11ea_a830_d4bed915db18row7_col4\" class=\"data row7 col4\" >0.0800833</td>\n",
       "                        <td id=\"T_ed0aa000_bfb6_11ea_a830_d4bed915db18row7_col5\" class=\"data row7 col5\" >0.05753</td>\n",
       "                        <td id=\"T_ed0aa000_bfb6_11ea_a830_d4bed915db18row7_col6\" class=\"data row7 col6\" >0.00464765</td>\n",
       "                        <td id=\"T_ed0aa000_bfb6_11ea_a830_d4bed915db18row7_col7\" class=\"data row7 col7\" >1</td>\n",
       "                        <td id=\"T_ed0aa000_bfb6_11ea_a830_d4bed915db18row7_col8\" class=\"data row7 col8\" >-0.0241609</td>\n",
       "            </tr>\n",
       "            <tr>\n",
       "                        <th id=\"T_ed0aa000_bfb6_11ea_a830_d4bed915db18level0_row8\" class=\"row_heading level0 row8\" >SMS_received</th>\n",
       "                        <td id=\"T_ed0aa000_bfb6_11ea_a830_d4bed915db18row8_col0\" class=\"data row8 col0\" >-0.00974946</td>\n",
       "                        <td id=\"T_ed0aa000_bfb6_11ea_a830_d4bed915db18row8_col1\" class=\"data row8 col1\" >-0.256618</td>\n",
       "                        <td id=\"T_ed0aa000_bfb6_11ea_a830_d4bed915db18row8_col2\" class=\"data row8 col2\" >0.0126434</td>\n",
       "                        <td id=\"T_ed0aa000_bfb6_11ea_a830_d4bed915db18row8_col3\" class=\"data row8 col3\" >0.00119401</td>\n",
       "                        <td id=\"T_ed0aa000_bfb6_11ea_a830_d4bed915db18row8_col4\" class=\"data row8 col4\" >-0.00626686</td>\n",
       "                        <td id=\"T_ed0aa000_bfb6_11ea_a830_d4bed915db18row8_col5\" class=\"data row8 col5\" >-0.01455</td>\n",
       "                        <td id=\"T_ed0aa000_bfb6_11ea_a830_d4bed915db18row8_col6\" class=\"data row8 col6\" >-0.0261474</td>\n",
       "                        <td id=\"T_ed0aa000_bfb6_11ea_a830_d4bed915db18row8_col7\" class=\"data row8 col7\" >-0.0241609</td>\n",
       "                        <td id=\"T_ed0aa000_bfb6_11ea_a830_d4bed915db18row8_col8\" class=\"data row8 col8\" >1</td>\n",
       "            </tr>\n",
       "    </tbody></table>"
      ],
      "text/plain": [
       "<pandas.io.formats.style.Styler at 0x22e117711d0>"
      ]
     },
     "execution_count": 55,
     "metadata": {},
     "output_type": "execute_result"
    }
   ],
   "source": [
    "# here we can explore the correlations between features using correlation matrix heatmap\n",
    "corrMatrix= df.corr()\n",
    "corrMatrix.style.background_gradient(cmap='coolwarm')"
   ]
  },
  {
   "cell_type": "markdown",
   "metadata": {},
   "source": [
    "<a id='wrangling'></a>\n",
    "## Data Wrangling"
   ]
  },
  {
   "cell_type": "markdown",
   "metadata": {},
   "source": [
    "### Assess & clean data"
   ]
  },
  {
   "cell_type": "code",
   "execution_count": 56,
   "metadata": {},
   "outputs": [],
   "source": [
    "# since we will not use these columns [PatientId, AppointmentID, ScheduledDay] in our analysis process, we will drop them.\n",
    "df.drop(['PatientId', 'AppointmentID', 'ScheduledDay'],axis=1, inplace=True)"
   ]
  },
  {
   "cell_type": "code",
   "execution_count": 57,
   "metadata": {},
   "outputs": [
    {
     "data": {
      "text/plain": [
       "Index(['gender', 'appointmentday', 'age', 'neighbourhood', 'scholarship',\n",
       "       'hipertension', 'diabetes', 'alcoholism', 'handcap', 'sms_received',\n",
       "       'no_show'],\n",
       "      dtype='object')"
      ]
     },
     "execution_count": 57,
     "metadata": {},
     "output_type": "execute_result"
    }
   ],
   "source": [
    "# lets first modify the column names to be lower case\n",
    "for c in df.columns:\n",
    "    df.rename(columns=lambda x:x.lower(),inplace=True)\n",
    "# replace the '-'  in no-show column with '_'   \n",
    "df.rename(columns={'no-show':'no_show'},inplace=True)\n",
    "df.columns"
   ]
  },
  {
   "cell_type": "code",
   "execution_count": 58,
   "metadata": {},
   "outputs": [
    {
     "data": {
      "text/plain": [
       "1"
      ]
     },
     "execution_count": 58,
     "metadata": {},
     "output_type": "execute_result"
    }
   ],
   "source": [
    "# check the age column to see values less than 0\n",
    "sum(df.age < 0)"
   ]
  },
  {
   "cell_type": "code",
   "execution_count": 62,
   "metadata": {},
   "outputs": [],
   "source": [
    "# since it only one record we can drop it.\n",
    "index= df[df.age < 0].index\n",
    "df.drop(index,inplace=True)"
   ]
  },
  {
   "cell_type": "code",
   "execution_count": 63,
   "metadata": {},
   "outputs": [
    {
     "data": {
      "text/plain": [
       "gender            0\n",
       "appointmentday    0\n",
       "age               0\n",
       "neighbourhood     0\n",
       "scholarship       0\n",
       "hipertension      0\n",
       "diabetes          0\n",
       "alcoholism        0\n",
       "handcap           0\n",
       "sms_received      0\n",
       "no_show           0\n",
       "dtype: int64"
      ]
     },
     "execution_count": 63,
     "metadata": {},
     "output_type": "execute_result"
    }
   ],
   "source": [
    "# checking for missing values for each colum in the dataset\n",
    "df.isna().sum()"
   ]
  },
  {
   "cell_type": "raw",
   "metadata": {},
   "source": [
    "as you can see there is no missing values in the dataset"
   ]
  },
  {
   "cell_type": "code",
   "execution_count": 64,
   "metadata": {},
   "outputs": [
    {
     "data": {
      "text/plain": [
       "gender            object\n",
       "appointmentday    object\n",
       "age                int64\n",
       "neighbourhood     object\n",
       "scholarship        int64\n",
       "hipertension       int64\n",
       "diabetes           int64\n",
       "alcoholism         int64\n",
       "handcap            int64\n",
       "sms_received       int64\n",
       "no_show           object\n",
       "dtype: object"
      ]
     },
     "execution_count": 64,
     "metadata": {},
     "output_type": "execute_result"
    }
   ],
   "source": [
    "# checking for the data types of each column in the dataset\n",
    "df.dtypes"
   ]
  },
  {
   "cell_type": "raw",
   "metadata": {},
   "source": [
    "here we can make some modifications:-\n",
    "1)AppointmentDay need to be datetime rather than object.\n",
    "2) gender and no_show need to be category rather than object because this will reduce the memory usage."
   ]
  },
  {
   "cell_type": "code",
   "execution_count": 65,
   "metadata": {},
   "outputs": [],
   "source": [
    "df['appointmentday']= pd.to_datetime(df['appointmentday'])\n",
    "df[['gender','no_show']]= df[['gender','no_show']].astype('category')"
   ]
  },
  {
   "cell_type": "code",
   "execution_count": 66,
   "metadata": {},
   "outputs": [
    {
     "name": "stdout",
     "output_type": "stream",
     "text": [
      "<class 'pandas.core.frame.DataFrame'>\n",
      "Int64Index: 110526 entries, 0 to 110526\n",
      "Data columns (total 11 columns):\n",
      "gender            110526 non-null category\n",
      "appointmentday    110526 non-null datetime64[ns, UTC]\n",
      "age               110526 non-null int64\n",
      "neighbourhood     110526 non-null object\n",
      "scholarship       110526 non-null int64\n",
      "hipertension      110526 non-null int64\n",
      "diabetes          110526 non-null int64\n",
      "alcoholism        110526 non-null int64\n",
      "handcap           110526 non-null int64\n",
      "sms_received      110526 non-null int64\n",
      "no_show           110526 non-null category\n",
      "dtypes: category(2), datetime64[ns, UTC](1), int64(7), object(1)\n",
      "memory usage: 8.6+ MB\n"
     ]
    }
   ],
   "source": [
    "# check data types and memory usage again \n",
    "df.info()"
   ]
  },
  {
   "cell_type": "code",
   "execution_count": 67,
   "metadata": {},
   "outputs": [],
   "source": [
    "# now lets check the duplicate values in the data set"
   ]
  },
  {
   "cell_type": "code",
   "execution_count": 68,
   "metadata": {},
   "outputs": [
    {
     "data": {
      "text/plain": [
       "15375"
      ]
     },
     "execution_count": 68,
     "metadata": {},
     "output_type": "execute_result"
    }
   ],
   "source": [
    "df.duplicated().sum()"
   ]
  },
  {
   "cell_type": "raw",
   "metadata": {},
   "source": [
    "there are 15375 douplicated row, so let`s drop them"
   ]
  },
  {
   "cell_type": "code",
   "execution_count": 69,
   "metadata": {},
   "outputs": [
    {
     "data": {
      "text/plain": [
       "0"
      ]
     },
     "execution_count": 69,
     "metadata": {},
     "output_type": "execute_result"
    }
   ],
   "source": [
    "# drop duplicates and confirm\n",
    "df.drop_duplicates(inplace=True)\n",
    "df.duplicated().sum()"
   ]
  },
  {
   "cell_type": "markdown",
   "metadata": {},
   "source": [
    "<a id='eda'></a>\n",
    "## Exploratory Data Analysis\n",
    "\n",
    "\n",
    "\n",
    "### Research Question 1 (what is the most 10 visited neighborhood by patients?)"
   ]
  },
  {
   "cell_type": "code",
   "execution_count": 70,
   "metadata": {},
   "outputs": [
    {
     "data": {
      "image/png": "[encoded data removed]",
      "text/plain": [
       "<Figure size 432x288 with 1 Axes>"
      ]
     },
     "metadata": {
      "needs_background": "light"
     },
     "output_type": "display_data"
    }
   ],
   "source": [
    "df.neighbourhood.value_counts(sort=True, ascending=False)[:10].plot(kind='bar');"
   ]
  },
  {
   "cell_type": "markdown",
   "metadata": {},
   "source": [
    "### Research Question 2  (what is the distribution of ages?)"
   ]
  },
  {
   "cell_type": "code",
   "execution_count": 71,
   "metadata": {},
   "outputs": [
    {
     "data": {
      "image/png": "[encoded data removed]",
      "text/plain": [
       "<Figure size 432x288 with 1 Axes>"
      ]
     },
     "metadata": {
      "needs_background": "light"
     },
     "output_type": "display_data"
    }
   ],
   "source": [
    "df.age.hist();"
   ]
  },
  {
   "cell_type": "markdown",
   "metadata": {},
   "source": [
    "### Research Question 3 (what is the distribution of no_show according gender?)"
   ]
  },
  {
   "cell_type": "code",
   "execution_count": 72,
   "metadata": {},
   "outputs": [
    {
     "data": {
      "image/png": "[encoded data removed]",
      "text/plain": [
       "<Figure size 432x288 with 1 Axes>"
      ]
     },
     "metadata": {
      "needs_background": "light"
     },
     "output_type": "display_data"
    }
   ],
   "source": [
    "sns.countplot(x='no_show',hue='gender',data=df);"
   ]
  },
  {
   "cell_type": "markdown",
   "metadata": {},
   "source": [
    "### Research Question 4 ( do people with scholarship show up higher than people with no scholarship?)"
   ]
  },
  {
   "cell_type": "code",
   "execution_count": 73,
   "metadata": {},
   "outputs": [
    {
     "data": {
      "image/png": "[encoded data removed]",
      "text/plain": [
       "<Figure size 432x288 with 1 Axes>"
      ]
     },
     "metadata": {
      "needs_background": "light"
     },
     "output_type": "display_data"
    }
   ],
   "source": [
    "sns.countplot(x='no_show',hue='scholarship',data=df);"
   ]
  },
  {
   "cell_type": "markdown",
   "metadata": {},
   "source": [
    "### Research Question 5 ( how sending sms to patient affect their showup?)"
   ]
  },
  {
   "cell_type": "code",
   "execution_count": 74,
   "metadata": {},
   "outputs": [
    {
     "data": {
      "image/png": "[encoded data removed]",
      "text/plain": [
       "<Figure size 432x288 with 1 Axes>"
      ]
     },
     "metadata": {
      "needs_background": "light"
     },
     "output_type": "display_data"
    }
   ],
   "source": [
    "sns.countplot(x='no_show',hue='sms_received',data=df);"
   ]
  },
  {
   "cell_type": "markdown",
   "metadata": {},
   "source": [
    "### Research Question 6 (What factors are important for us to know in order to predict if a patient will show up for their scheduled appointment?)"
   ]
  },
  {
   "cell_type": "code",
   "execution_count": 75,
   "metadata": {},
   "outputs": [
    {
     "data": {
      "image/png": "[encoded data removed]",
      "text/plain": [
       "<Figure size 432x288 with 1 Axes>"
      ]
     },
     "metadata": {
      "needs_background": "light"
     },
     "output_type": "display_data"
    }
   ],
   "source": [
    "sns.countplot(x='no_show',hue='hipertension',data=df);"
   ]
  },
  {
   "cell_type": "code",
   "execution_count": 76,
   "metadata": {},
   "outputs": [
    {
     "data": {
      "image/png": "[encoded data removed]",
      "text/plain": [
       "<Figure size 432x288 with 1 Axes>"
      ]
     },
     "metadata": {
      "needs_background": "light"
     },
     "output_type": "display_data"
    }
   ],
   "source": [
    "sns.countplot(x='no_show',hue='diabetes',data=df);"
   ]
  },
  {
   "cell_type": "code",
   "execution_count": 77,
   "metadata": {},
   "outputs": [
    {
     "data": {
      "image/png": "[encoded data removed]",
      "text/plain": [
       "<Figure size 432x288 with 1 Axes>"
      ]
     },
     "metadata": {
      "needs_background": "light"
     },
     "output_type": "display_data"
    }
   ],
   "source": [
    "sns.countplot(x='no_show',hue='alcoholism',data=df);"
   ]
  },
  {
   "cell_type": "code",
   "execution_count": 78,
   "metadata": {},
   "outputs": [
    {
     "data": {
      "image/png": "[encoded data removed]",
      "text/plain": [
       "<Figure size 432x288 with 1 Axes>"
      ]
     },
     "metadata": {
      "needs_background": "light"
     },
     "output_type": "display_data"
    }
   ],
   "source": [
    "sns.countplot(x='no_show',hue='handcap',data=df);"
   ]
  },
  {
   "cell_type": "markdown",
   "metadata": {},
   "source": [
    "<a id='conclusions'></a>\n",
    "## Conclusions\n"
   ]
  },
  {
   "cell_type": "markdown",
   "metadata": {},
   "source": [
    "<a id='result'></a>\n",
    "### 1- Results\n"
   ]
  },
  {
   "cell_type": "raw",
   "metadata": {},
   "source": [
    "(1) 'JARDIM CAMBURI' is the most visited neighborhood.\n",
    "(2) most of patients are childrens with(0:5) years old and old people with (55:60) years old.\n",
    "(3) females are show up more than males\n",
    "(4) people with no scholarship showup than people with scholarship.\n",
    "(5) sms is not the main factor to remind people to show up because most of people that doesn`t recieve sms are showing up.\n",
    "(6) hypertension is the most disease make people showup to their appointments."
   ]
  },
  {
   "cell_type": "markdown",
   "metadata": {
    "collapsed": true
   },
   "source": [
    "<a id='limit'></a>\n",
    "### 2- Limitations\n"
   ]
  },
  {
   "cell_type": "raw",
   "metadata": {},
   "source": [
    "(1) in the age column there is negative value.\n",
    "(2) there are some columns we don`t need them in our analysis.\n",
    "(3) there are more duplicate values in the dataset.\n",
    "(4) data encoding in these columns (Scholarship, Hipertension, Diabetes, Alcoholism, Handcap) which not readable by audience."
   ]
  }
 ],
 "metadata": {
  "kernelspec": {
   "display_name": "Python 3",
   "language": "python",
   "name": "python3"
  },
  "language_info": {
   "codemirror_mode": {
    "name": "ipython",
    "version": 3
   },
   "file_extension": ".py",
   "mimetype": "text/x-python",
   "name": "python",
   "nbconvert_exporter": "python",
   "pygments_lexer": "ipython3",
   "version": "3.7.3"
  }
 },
 "nbformat": 4,
 "nbformat_minor": 2
}
